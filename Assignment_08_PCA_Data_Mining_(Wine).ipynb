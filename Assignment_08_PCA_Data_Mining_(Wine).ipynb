{
  "nbformat": 4,
  "nbformat_minor": 0,
  "metadata": {
    "colab": {
      "name": "Assignment-08-PCA Data Mining (Wine).ipynb",
      "provenance": [],
      "collapsed_sections": []
    },
    "kernelspec": {
      "name": "python3",
      "display_name": "Python 3"
    },
    "language_info": {
      "name": "python"
    }
  },
  "cells": [
    {
      "cell_type": "code",
      "execution_count": null,
      "metadata": {
        "id": "rhXGJNx0OKDn"
      },
      "outputs": [],
      "source": [
        "# Import libraries\n",
        "import pandas as pd\n",
        "import numpy as np\n",
        "import matplotlib.pyplot as plt\n",
        "import seaborn as sns\n",
        "from sklearn.decomposition import PCA\n",
        "from sklearn.preprocessing import scale"
      ]
    },
    {
      "cell_type": "markdown",
      "source": [
        "Q 1)"
      ],
      "metadata": {
        "id": "xlTb5cwPz_3k"
      }
    },
    {
      "cell_type": "code",
      "source": [
        "# Import Dataset\n",
        "wine=pd.read_csv('/content/wine.csv')\n",
        "wine"
      ],
      "metadata": {
        "id": "CPuOXsRUOeyR"
      },
      "execution_count": null,
      "outputs": []
    },
    {
      "cell_type": "code",
      "source": [
        "wine['Type'].value_counts()"
      ],
      "metadata": {
        "id": "IWPGZaR5Oir-"
      },
      "execution_count": null,
      "outputs": []
    },
    {
      "cell_type": "code",
      "source": [
        "wine2=wine.iloc[:,1:]\n",
        "wine2"
      ],
      "metadata": {
        "id": "HbGCRtBeOvTG"
      },
      "execution_count": null,
      "outputs": []
    },
    {
      "cell_type": "code",
      "source": [
        "wine2.shape"
      ],
      "metadata": {
        "id": "_tLMmhAIOyp3"
      },
      "execution_count": null,
      "outputs": []
    },
    {
      "cell_type": "code",
      "source": [
        "wine2.info()"
      ],
      "metadata": {
        "id": "TlBz56D4O22s"
      },
      "execution_count": null,
      "outputs": []
    },
    {
      "cell_type": "code",
      "source": [
        "# Converting data to numpy array\n",
        "wine_ary=wine2.values\n",
        "wine_ary"
      ],
      "metadata": {
        "id": "LEHr2nFLO75n"
      },
      "execution_count": null,
      "outputs": []
    },
    {
      "cell_type": "code",
      "source": [
        "# Normalizing the numerical data \n",
        "wine_norm=scale(wine_ary)\n",
        "wine_norm"
      ],
      "metadata": {
        "id": "Fz9WYSD4PAal"
      },
      "execution_count": null,
      "outputs": []
    },
    {
      "cell_type": "code",
      "source": [
        "#PCA Implementation"
      ],
      "metadata": {
        "id": "wQ-0_dgFPEhK"
      },
      "execution_count": null,
      "outputs": []
    },
    {
      "cell_type": "code",
      "source": [
        "# Applying PCA Fit Transform to dataset\n",
        "pca=PCA(n_components=13)\n",
        "\n",
        "wine_pca=pca.fit_transform(wine_norm)\n",
        "wine_pca"
      ],
      "metadata": {
        "id": "r0wXsIjOPLLs"
      },
      "execution_count": null,
      "outputs": []
    },
    {
      "cell_type": "code",
      "source": [
        "# PCA Components matrix or covariance Matrix\n",
        "pca.components_"
      ],
      "metadata": {
        "id": "VyVNxTsnPU4b"
      },
      "execution_count": null,
      "outputs": []
    },
    {
      "cell_type": "code",
      "source": [
        "# The amount of variance that each PCA has\n",
        "var=pca.explained_variance_ratio_\n",
        "var"
      ],
      "metadata": {
        "id": "xMcItIIBPZy3"
      },
      "execution_count": null,
      "outputs": []
    },
    {
      "cell_type": "code",
      "source": [
        "# Cummulative variance of each PCA\n",
        "var1=np.cumsum(np.round(var,4)*100)\n",
        "var1"
      ],
      "metadata": {
        "id": "mx9QTv4FPecB"
      },
      "execution_count": null,
      "outputs": []
    },
    {
      "cell_type": "code",
      "source": [
        "# Variance plot for PCA components obtained \n",
        "plt.plot(var1,color='magenta')"
      ],
      "metadata": {
        "id": "gPnEJKDTPjIL"
      },
      "execution_count": null,
      "outputs": []
    },
    {
      "cell_type": "code",
      "source": [
        "# Final Dataframe\n",
        "final_df=pd.concat([wine['Type'],pd.DataFrame(wine_pca[:,0:3],columns=['PC1','PC2','PC3'])],axis=1)\n",
        "final_df"
      ],
      "metadata": {
        "id": "PX5suwuqPmru"
      },
      "execution_count": null,
      "outputs": []
    },
    {
      "cell_type": "code",
      "source": [
        "# Visualization of PCAs\n",
        "fig=plt.figure(figsize=(16,12))\n",
        "sns.scatterplot(data=final_df)"
      ],
      "metadata": {
        "id": "YoAjpZkxPqSK"
      },
      "execution_count": null,
      "outputs": []
    },
    {
      "cell_type": "code",
      "source": [
        "#Checking with other Clustering Algorithms"
      ],
      "metadata": {
        "id": "qickrRJbPt6h"
      },
      "execution_count": null,
      "outputs": []
    },
    {
      "cell_type": "code",
      "source": [
        "#1. Hierarchical Clustering"
      ],
      "metadata": {
        "id": "M369Kn2pP6XF"
      },
      "execution_count": null,
      "outputs": []
    },
    {
      "cell_type": "code",
      "source": [
        "# Import Libraries\n",
        "import scipy.cluster.hierarchy as sch\n",
        "from sklearn.cluster import AgglomerativeClustering\n",
        "from sklearn.preprocessing import normalize"
      ],
      "metadata": {
        "id": "wc0SNG-PP-ZB"
      },
      "execution_count": null,
      "outputs": []
    },
    {
      "cell_type": "code",
      "source": [
        "# As we already have normalized data, create Dendrograms\n",
        "plt.figure(figsize=(10,8))\n",
        "dendrogram=sch.dendrogram(sch.linkage(wine_norm,'complete'))"
      ],
      "metadata": {
        "id": "dWYgsYx_QB5Z"
      },
      "execution_count": null,
      "outputs": []
    },
    {
      "cell_type": "code",
      "source": [
        "# Create Clusters (y)\n",
        "hclusters=AgglomerativeClustering(n_clusters=3,affinity='euclidean',linkage='ward')\n",
        "hclusters"
      ],
      "metadata": {
        "id": "WHStQK-LQGSM"
      },
      "execution_count": null,
      "outputs": []
    },
    {
      "cell_type": "code",
      "source": [
        "y=pd.DataFrame(hclusters.fit_predict(wine_norm),columns=['clustersid'])\n",
        "y['clustersid'].value_counts()"
      ],
      "metadata": {
        "id": "fFiGHQLwQQwT"
      },
      "execution_count": null,
      "outputs": []
    },
    {
      "cell_type": "code",
      "source": [
        "# Adding clusters to dataset\n",
        "wine3=wine.copy()\n",
        "wine3['clustersid']=hclusters.labels_\n",
        "wine3"
      ],
      "metadata": {
        "id": "_GmoCtVnQU1j"
      },
      "execution_count": null,
      "outputs": []
    },
    {
      "cell_type": "code",
      "source": [
        "#2. K-Means Clustering"
      ],
      "metadata": {
        "id": "NwtFx5stQYQR"
      },
      "execution_count": null,
      "outputs": []
    },
    {
      "cell_type": "code",
      "source": [
        "# Import Libraries\n",
        "from sklearn.cluster import KMeans"
      ],
      "metadata": {
        "id": "r9y85catQcwY"
      },
      "execution_count": null,
      "outputs": []
    },
    {
      "cell_type": "code",
      "source": [
        "# As we already have normalized data\n",
        "# Use Elbow Graph to find optimum number of  clusters (K value) from K values range\n",
        "# The K-means algorithm aims to choose centroids that minimise the inertia, or within-cluster sum-of-squares criterion WCSS \n",
        "# random state can be anything from 0 to 42, but the same number to be used everytime,so that the results don't change. "
      ],
      "metadata": {
        "id": "CBdkxafQQgKX"
      },
      "execution_count": null,
      "outputs": []
    },
    {
      "cell_type": "code",
      "source": [
        "# within-cluster sum-of-squares criterion \n",
        "wcss=[]\n",
        "for i in range (1,6):\n",
        "    kmeans=KMeans(n_clusters=i,random_state=2)\n",
        "    kmeans.fit(wine_norm)\n",
        "    wcss.append(kmeans.inertia_)"
      ],
      "metadata": {
        "id": "ZtgIoWV8Qnr-"
      },
      "execution_count": null,
      "outputs": []
    },
    {
      "cell_type": "code",
      "source": [
        "# Plot K values range vs WCSS to get Elbow graph for choosing K (no. of clusters)\n",
        "plt.plot(range(1,6),wcss)\n",
        "plt.title('Elbow Graph')\n",
        "plt.xlabel('Number of clusters')\n",
        "plt.ylabel('WCSS')\n",
        "plt.show()"
      ],
      "metadata": {
        "id": "lEP4x9TkQyDO"
      },
      "execution_count": null,
      "outputs": []
    },
    {
      "cell_type": "code",
      "source": [
        "#Build Cluster algorithm using K=3"
      ],
      "metadata": {
        "id": "8wlW4bxcQ6e2"
      },
      "execution_count": null,
      "outputs": []
    },
    {
      "cell_type": "code",
      "source": [
        "# Cluster algorithm using K=3\n",
        "clusters3=KMeans(3,random_state=30).fit(wine_norm)\n",
        "clusters3"
      ],
      "metadata": {
        "id": "fKYWC38MRCpm"
      },
      "execution_count": null,
      "outputs": []
    },
    {
      "cell_type": "code",
      "source": [
        "clusters3.labels_"
      ],
      "metadata": {
        "id": "xdZjDIPERHcx"
      },
      "execution_count": null,
      "outputs": []
    },
    {
      "cell_type": "code",
      "source": [
        "# Assign clusters to the data set\n",
        "wine4=wine.copy()\n",
        "wine4['clusters3id']=clusters3.labels_\n",
        "wine4"
      ],
      "metadata": {
        "id": "NY-lu4d6RKww"
      },
      "execution_count": null,
      "outputs": []
    },
    {
      "cell_type": "code",
      "source": [
        "wine4['clusters3id'].value_counts()"
      ],
      "metadata": {
        "id": "kkstjAq4Ream"
      },
      "execution_count": null,
      "outputs": []
    },
    {
      "cell_type": "code",
      "source": [
        ""
      ],
      "metadata": {
        "id": "XDTssDloSFYQ"
      },
      "execution_count": null,
      "outputs": []
    }
  ]
}